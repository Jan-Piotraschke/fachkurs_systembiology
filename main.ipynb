{
 "cells": [
  {
   "cell_type": "markdown",
   "id": "e501c03e",
   "metadata": {
    "colab_type": "text",
    "id": "view-in-github"
   },
   "source": [
    "<a href=\"https://colab.research.google.com/github/Jan-Piotraschke/fachkurs_systembiology/blob/main/main.ipynb\" target=\"_parent\"><img src=\"https://colab.research.google.com/assets/colab-badge.svg\" alt=\"Open In Colab\"/></a>"
   ]
  },
  {
   "cell_type": "code",
   "execution_count": 164,
   "id": "662c6f22",
   "metadata": {
    "colab": {
     "base_uri": "https://localhost:8080/",
     "height": 579
    },
    "id": "662c6f22",
    "outputId": "0153a57a-bcb3-4f86-be51-58d3c7e49430",
    "scrolled": true
   },
   "outputs": [],
   "source": [
    "# !pip3 install scipy pandas numpy matplotlib\n",
    "# !pip3 install voila  # Voilà works with any Jupyter kernel (C++, Python, Julia)\n",
    "from scipy.integrate import odeint\n",
    "from scipy.optimize import fsolve\n",
    "\n",
    "import pandas as pd\n",
    "import numpy as np\n",
    "\n",
    "import matplotlib.pyplot as plt\n",
    "%matplotlib inline\n",
    "\n",
    "# import ipywidgets as widgets  # make this notebook interactive\n"
   ]
  },
  {
   "cell_type": "markdown",
   "id": "e0a59cdf",
   "metadata": {},
   "source": [
    "? Warum Gbg Daten und nicht Ga"
   ]
  },
  {
   "cell_type": "code",
   "execution_count": 165,
   "id": "40ceadc7",
   "metadata": {},
   "outputs": [
    {
     "data": {
      "text/html": [
       "<div>\n",
       "<style scoped>\n",
       "    .dataframe tbody tr th:only-of-type {\n",
       "        vertical-align: middle;\n",
       "    }\n",
       "\n",
       "    .dataframe tbody tr th {\n",
       "        vertical-align: top;\n",
       "    }\n",
       "\n",
       "    .dataframe thead th {\n",
       "        text-align: right;\n",
       "    }\n",
       "</style>\n",
       "<table border=\"1\" class=\"dataframe\">\n",
       "  <thead>\n",
       "    <tr style=\"text-align: right;\">\n",
       "      <th></th>\n",
       "      <th>time</th>\n",
       "      <th>alphaF</th>\n",
       "      <th>Gbg_mean</th>\n",
       "      <th>Gbg_std</th>\n",
       "    </tr>\n",
       "    <tr>\n",
       "      <th>Unnamed: 0</th>\n",
       "      <th></th>\n",
       "      <th></th>\n",
       "      <th></th>\n",
       "      <th></th>\n",
       "    </tr>\n",
       "  </thead>\n",
       "  <tbody>\n",
       "    <tr>\n",
       "      <th>0</th>\n",
       "      <td>10</td>\n",
       "      <td>1000</td>\n",
       "      <td>0.3504</td>\n",
       "      <td>0.0080</td>\n",
       "    </tr>\n",
       "    <tr>\n",
       "      <th>1</th>\n",
       "      <td>30</td>\n",
       "      <td>1000</td>\n",
       "      <td>0.4000</td>\n",
       "      <td>0.0040</td>\n",
       "    </tr>\n",
       "    <tr>\n",
       "      <th>2</th>\n",
       "      <td>60</td>\n",
       "      <td>1000</td>\n",
       "      <td>0.3680</td>\n",
       "      <td>0.0120</td>\n",
       "    </tr>\n",
       "    <tr>\n",
       "      <th>3</th>\n",
       "      <td>120</td>\n",
       "      <td>1000</td>\n",
       "      <td>0.3868</td>\n",
       "      <td>0.0148</td>\n",
       "    </tr>\n",
       "    <tr>\n",
       "      <th>4</th>\n",
       "      <td>210</td>\n",
       "      <td>1000</td>\n",
       "      <td>0.3304</td>\n",
       "      <td>0.0160</td>\n",
       "    </tr>\n",
       "    <tr>\n",
       "      <th>5</th>\n",
       "      <td>300</td>\n",
       "      <td>1000</td>\n",
       "      <td>0.2420</td>\n",
       "      <td>0.0320</td>\n",
       "    </tr>\n",
       "    <tr>\n",
       "      <th>6</th>\n",
       "      <td>450</td>\n",
       "      <td>1000</td>\n",
       "      <td>0.1748</td>\n",
       "      <td>0.0240</td>\n",
       "    </tr>\n",
       "    <tr>\n",
       "      <th>7</th>\n",
       "      <td>600</td>\n",
       "      <td>1000</td>\n",
       "      <td>0.1948</td>\n",
       "      <td>0.0160</td>\n",
       "    </tr>\n",
       "  </tbody>\n",
       "</table>\n",
       "</div>"
      ],
      "text/plain": [
       "            time  alphaF  Gbg_mean  Gbg_std\n",
       "Unnamed: 0                                 \n",
       "0             10    1000    0.3504   0.0080\n",
       "1             30    1000    0.4000   0.0040\n",
       "2             60    1000    0.3680   0.0120\n",
       "3            120    1000    0.3868   0.0148\n",
       "4            210    1000    0.3304   0.0160\n",
       "5            300    1000    0.2420   0.0320\n",
       "6            450    1000    0.1748   0.0240\n",
       "7            600    1000    0.1948   0.0160"
      ]
     },
     "metadata": {},
     "output_type": "display_data"
    },
    {
     "data": {
      "text/html": [
       "<div>\n",
       "<style scoped>\n",
       "    .dataframe tbody tr th:only-of-type {\n",
       "        vertical-align: middle;\n",
       "    }\n",
       "\n",
       "    .dataframe tbody tr th {\n",
       "        vertical-align: top;\n",
       "    }\n",
       "\n",
       "    .dataframe thead th {\n",
       "        text-align: right;\n",
       "    }\n",
       "</style>\n",
       "<table border=\"1\" class=\"dataframe\">\n",
       "  <thead>\n",
       "    <tr style=\"text-align: right;\">\n",
       "      <th></th>\n",
       "      <th>time</th>\n",
       "      <th>alphaF</th>\n",
       "      <th>Gbg_mean</th>\n",
       "      <th>Gbg_std</th>\n",
       "    </tr>\n",
       "  </thead>\n",
       "  <tbody>\n",
       "    <tr>\n",
       "      <th>0</th>\n",
       "      <td>60</td>\n",
       "      <td>1</td>\n",
       "      <td>0.060</td>\n",
       "      <td>0.008</td>\n",
       "    </tr>\n",
       "    <tr>\n",
       "      <th>1</th>\n",
       "      <td>60</td>\n",
       "      <td>2</td>\n",
       "      <td>0.108</td>\n",
       "      <td>0.020</td>\n",
       "    </tr>\n",
       "    <tr>\n",
       "      <th>2</th>\n",
       "      <td>60</td>\n",
       "      <td>5</td>\n",
       "      <td>0.200</td>\n",
       "      <td>0.028</td>\n",
       "    </tr>\n",
       "    <tr>\n",
       "      <th>3</th>\n",
       "      <td>60</td>\n",
       "      <td>10</td>\n",
       "      <td>0.304</td>\n",
       "      <td>0.024</td>\n",
       "    </tr>\n",
       "    <tr>\n",
       "      <th>4</th>\n",
       "      <td>60</td>\n",
       "      <td>20</td>\n",
       "      <td>0.400</td>\n",
       "      <td>0.012</td>\n",
       "    </tr>\n",
       "    <tr>\n",
       "      <th>5</th>\n",
       "      <td>60</td>\n",
       "      <td>50</td>\n",
       "      <td>0.408</td>\n",
       "      <td>0.004</td>\n",
       "    </tr>\n",
       "    <tr>\n",
       "      <th>6</th>\n",
       "      <td>60</td>\n",
       "      <td>100</td>\n",
       "      <td>0.412</td>\n",
       "      <td>0.012</td>\n",
       "    </tr>\n",
       "  </tbody>\n",
       "</table>\n",
       "</div>"
      ],
      "text/plain": [
       "   time  alphaF  Gbg_mean  Gbg_std\n",
       "0    60       1     0.060    0.008\n",
       "1    60       2     0.108    0.020\n",
       "2    60       5     0.200    0.028\n",
       "3    60      10     0.304    0.024\n",
       "4    60      20     0.400    0.012\n",
       "5    60      50     0.408    0.004\n",
       "6    60     100     0.412    0.012"
      ]
     },
     "metadata": {},
     "output_type": "display_data"
    }
   ],
   "source": [
    "data_wet_5A = pd.read_csv('data/Fig-5-A-data.csv')\n",
    "data_wet_5A.set_index('Unnamed: 0', drop=True, inplace=True)\n",
    "\n",
    "data_wet_5B = pd.read_csv('data/Fig-5-B-data.csv')\n",
    "display(data_wet_5A)\n",
    "display(data_wet_5B)"
   ]
  },
  {
   "cell_type": "code",
   "execution_count": 166,
   "id": "e0d367e8",
   "metadata": {},
   "outputs": [],
   "source": [
    "# parameters\n",
    "k_RL = 2 * 10 ** 6\n",
    "k_RLm = 10 ** -2\n",
    "k_Rs = 4\n",
    "k_Rd0 = 4 * 4 ** -4\n",
    "k_Rd1 = k_Rd0 * 10\n",
    "k_G1 = 1\n",
    "k_Ga = 10 ** -5\n",
    "\n",
    "Gt = 10 ** 4  # total number of G proteins per cell\n",
    "\n"
   ]
  },
  {
   "cell_type": "code",
   "execution_count": 167,
   "id": "17d36247",
   "metadata": {},
   "outputs": [],
   "source": [
    "def solve_ode_system(current_state, t, k_Gd, L) -> list:\n",
    "    \"\"\"\n",
    "\n",
    "    :param current_state: current state of the ODE system\n",
    "    :param t: time of simulation\n",
    "    :param parameter: rate constant for G protein deactivation\n",
    "    :return: solution of the ODE System\n",
    "    \"\"\"\n",
    "    R, RL, G, Ga = current_state\n",
    "\n",
    "    # algebraic equations:\n",
    "    Gd = Gt - G - Ga  # Galpha-GDP\n",
    "    Gbg = Gt - G  # free Gbetagamma\n",
    "\n",
    "    # the ODEs ahead:\n",
    "    dR_dt = -k_RL*L*R + k_RLm*RL - k_Rd0*R + k_Rs  # free receptor\n",
    "    dRL_dt = k_RL*L*R - k_RLm*RL - k_Rd1*RL  # receptor bound to ligand\n",
    "    dG_dt = -k_Ga*RL*G + k_G1*Gd*Gbg  # inactive heterotrimeric G protein\n",
    "    dGa_dt = k_Ga*RL*G - k_Gd*Ga  # active Galpha-GTP\n",
    "\n",
    "    return [dR_dt, dRL_dt, dG_dt, dGa_dt]\n",
    "\n"
   ]
  },
  {
   "cell_type": "code",
   "execution_count": 168,
   "id": "d5601976",
   "metadata": {},
   "outputs": [],
   "source": [
    "def fixpoints(current_state, k_Gd, L) -> list:\n",
    "    \"\"\"\n",
    "\n",
    "    :param current_state: current state of the ODE system\n",
    "    :param parameter: rate constant for G protein deactivation\n",
    "    :return: return fix points \n",
    "    \"\"\"\n",
    "    R, RL, G, Ga = current_state\n",
    "\n",
    "    # algebraic equations:\n",
    "    Gd = Gt - G - Ga  # Galpha-GDP\n",
    "    Gbg = Gt - G  # free Gbetagamma\n",
    "\n",
    "    # the ODEs ahead:\n",
    "    dR_dt = -k_RL*L*R + k_RLm*RL - k_Rd0*R + k_Rs  # free receptor\n",
    "    dRL_dt = k_RL*L*R - k_RLm*RL - k_Rd1*RL  # receptor bound to ligand\n",
    "    dG_dt = -k_Ga*RL*G + k_G1*Gd*Gbg  # inactive heterotrimeric G protein\n",
    "    dGa_dt = k_Ga*RL*G - k_Gd*Ga  # active Galpha-GTP\n",
    "\n",
    "    return [dR_dt, dRL_dt, dG_dt, dGa_dt]\n",
    "\n"
   ]
  },
  {
   "cell_type": "code",
   "execution_count": 169,
   "id": "ad7f0691",
   "metadata": {},
   "outputs": [],
   "source": [
    "time_stop = 600\n",
    "time = np.arange(0, time_stop, 0.01)\n",
    "\n",
    "# initial values\n",
    "# TODO: dummy values -> didn't found the real values yet\n",
    "R_0 = 10000  # free receptor\n",
    "RL_0 = 0  # receptor bound to ligand\n",
    "G_0 = 10000  # inactive heterotrimeric G protein\n",
    "Ga_0 = 0  # active Galpha-GTP\n",
    "S0 = [R_0, RL_0, G_0, Ga_0]\n",
    "\n",
    "# variable rate constant for G protein deactivation\n",
    "k_Gd = 0.004   # 0.11  # 0.004\n",
    "L_alpha =  10 ** -6  # alpha-factor -> 1 uM\n",
    "solution = pd.DataFrame(odeint(solve_ode_system, S0, time, args=(k_Gd, L_alpha)), columns=['R', 'RL', 'G', 'Ga'], index=time)\n",
    "\n",
    "dose_response = {}\n",
    "for L_var in data_wet_5B.alphaF:  # nM alpha-factor \n",
    "    data = pd.DataFrame(odeint(solve_ode_system, S0, time, args=(k_Gd, L_var*10**-3)), columns=['R', 'RL', 'G', 'Ga'], index=time)\n",
    "    dose_response[L_var] = data.loc[[60.00]].Ga.iloc[0]  # get Ga value for t=60s\n",
    "    # data.plot()"
   ]
  },
  {
   "cell_type": "markdown",
   "id": "88ed987e",
   "metadata": {},
   "source": [
    "Solver austauschen: solve_ivp  \n",
    "Parameter fitten  \n",
    "Log plot machen! "
   ]
  },
  {
   "cell_type": "code",
   "execution_count": 170,
   "id": "b6cf39f9",
   "metadata": {},
   "outputs": [
    {
     "name": "stdout",
     "output_type": "stream",
     "text": [
      "[2.11045683e+00 2.53889543e+01 9.40315530e+03 5.96840701e+02]\n"
     ]
    },
    {
     "data": {
      "text/plain": [
       "<matplotlib.legend.Legend at 0x12f090040>"
      ]
     },
     "execution_count": 170,
     "metadata": {},
     "output_type": "execute_result"
    },
    {
     "data": {
      "image/png": "[encoded data removed]",
      "text/plain": [
       "<Figure size 576x288 with 1 Axes>"
      ]
     },
     "metadata": {
      "needs_background": "light"
     },
     "output_type": "display_data"
    }
   ],
   "source": [
    "newFixPoint = fsolve(fixpoints, np.array(S0)*0.1, args=(k_Gd, L_alpha)).round(8)\n",
    "print(newFixPoint)\n",
    "fig, ax = plt.subplots(figsize=(8, 4)) #, ncols=2)\n",
    "# Hide the right and top spines\n",
    "ax.yaxis.grid(alpha=0.4)\n",
    "ax.spines['right'].set_visible(False)\n",
    "ax.spines['top'].set_visible(False)\n",
    "ax.plot(time,solution, label=solution.columns)\n",
    "ax.errorbar([time_stop]*4, newFixPoint, fmt='x', color='blue', label='fixed point')  # the wet data \n",
    "ax.set_xlabel('Time [secs]')\n",
    "ax.set_ylabel('Molecules per cell')\n",
    "plt.legend(loc=(1.1,0.5), frameon=False)\n"
   ]
  },
  {
   "cell_type": "code",
   "execution_count": 171,
   "id": "34d5d094",
   "metadata": {},
   "outputs": [
    {
     "name": "stderr",
     "output_type": "stream",
     "text": [
      "No handles with labels found to put in legend.\n"
     ]
    },
    {
     "data": {
      "image/png": "[encoded data removed]",
      "text/plain": [
       "<Figure size 576x576 with 1 Axes>"
      ]
     },
     "metadata": {
      "needs_background": "light"
     },
     "output_type": "display_data"
    },
    {
     "data": {
      "image/png": "[encoded data removed]",
      "text/plain": [
       "<Figure size 576x288 with 1 Axes>"
      ]
     },
     "metadata": {
      "needs_background": "light"
     },
     "output_type": "display_data"
    }
   ],
   "source": [
    "fig, ax = plt.subplots(figsize=(8, 8)) #, ncols=2)\n",
    "\n",
    "# choose the style of the plot\n",
    "# print(plt.style.available)\n",
    "# plt.style.use('classic')\n",
    "ax.set_xlabel(\"Time [secs]\")\n",
    "ax.set_ylabel(\"Active G-Protein (Fraction)\")\n",
    "\n",
    "# Hide the right and top spines\n",
    "ax.spines['right'].set_visible(False)\n",
    "ax.spines['top'].set_visible(False)\n",
    "# NOTE: maybe not correct yet\n",
    "ax.plot(time, (Gt - solution[\"G\"])/Gt, color='blue')  # Fig. 5A from the paper \n",
    "ax.errorbar(data_wet_5A.time, data_wet_5A.Gbg_mean, fmt='o', yerr=data_wet_5A.Gbg_std, color='blue')  # the wet data \n",
    "ax.legend()\n",
    "\n",
    "# plt.legend(loc=(1.1,0.5), frameon=False)\n",
    "\n",
    "# ax.xaxis.set_ticks([0,60,120])\n",
    "ax.set_ylim(0,0.5)\n",
    "# ax.set_ylim(0,5000)\n",
    "ax.yaxis.grid(alpha=0.4)\n",
    "\n",
    "# plt.savefig('GA_Deaths_40days.png', dpi=600, bbox_inches='tight')\n",
    "fig1, ax1 = plt.subplots(figsize=(8, 4)) #, ncols=2)\n",
    "ax1.set_xlabel('log[Alpha-Factor] [nM]')\n",
    "ax1.set_ylabel('G-Protein Activation Response')\n",
    "\n",
    "ax1.plot(np.log10(list(dose_response.keys())), dose_response.values(), color='blue')  # Fig. 5A from the paper \n",
    "#ax1.errorbar(np.log10(data_wet_5B.alphaF), data_wet_5B.Gbg_mean, fmt='o', yerr=data_wet_5B.Gbg_std, color='blue')  # the wet data \n",
    "\n",
    "ax1.set_xlim(-3,3)\n",
    "\n",
    "\n",
    "\n",
    "plt.show()"
   ]
  },
  {
   "cell_type": "markdown",
   "id": "76ac695e",
   "metadata": {},
   "source": [
    "Fixpunkt"
   ]
  },
  {
   "cell_type": "code",
   "execution_count": 172,
   "id": "82a36bbd",
   "metadata": {},
   "outputs": [
    {
     "data": {
      "image/png": "[encoded data removed]",
      "text/plain": [
       "<Figure size 576x288 with 1 Axes>"
      ]
     },
     "metadata": {
      "needs_background": "light"
     },
     "output_type": "display_data"
    }
   ],
   "source": [
    "fig, ax2 = plt.subplots(figsize=(8, 4)) #, ncols=2)\n",
    "ax2.plot(time, -0.3*((Gt - solution[\"G\"])/Gt -1))\n",
    "plt.show()\n"
   ]
  },
  {
   "cell_type": "code",
   "execution_count": null,
   "id": "55620b11",
   "metadata": {},
   "outputs": [],
   "source": []
  }
 ],
 "metadata": {
  "colab": {
   "include_colab_link": true,
   "name": "main.ipynb",
   "provenance": []
  },
  "kernelspec": {
   "display_name": "Python 3",
   "language": "python",
   "name": "python3"
  },
  "language_info": {
   "codemirror_mode": {
    "name": "ipython",
    "version": 3
   },
   "file_extension": ".py",
   "mimetype": "text/x-python",
   "name": "python",
   "nbconvert_exporter": "python",
   "pygments_lexer": "ipython3",
   "version": "3.9.9"
  }
 },
 "nbformat": 4,
 "nbformat_minor": 5
}
